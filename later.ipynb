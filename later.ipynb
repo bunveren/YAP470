{
 "cells": [
  {
   "cell_type": "markdown",
   "id": "326cb08e",
   "metadata": {},
   "source": [
    "### PLANLANAN REPO YAPISI ###"
   ]
  },
  {
   "cell_type": "markdown",
   "id": "97178d54",
   "metadata": {},
   "source": [
    "/my_fire_detection_project/\n",
    "├── data/\n",
    "│   ├── fire_dataset_subset/     # Kaggle datasetinden küçük bir alt küme\n",
    "│   │   ├── fire_images/\n",
    "│   │   └── non_fire_images/\n",
    "│   └── D-Fire_subset/           # D-Fire datasetinden küçük bir alt küme\n",
    "│       ├── train/\n",
    "│       │   ├── images/\n",
    "│       │   └── labels/          # İçinde etiket dosyalarının küçük bir alt kümesi\n",
    "│       └── test/\n",
    "│           ├── images/\n",
    "│           └── labels/\n",
    "├── models/                      # Eğitilen modeller buraya kaydedilecek\n",
    "│   ├── ml_svm_v1.pkl\n",
    "│   ├── ml_lgbm_v1.pkl\n",
    "│   ├── ml_mlp_v1.pt             # PyTorch modeli için örnek\n",
    "│   └── cnn_v1.pt\n",
    "├── notebooks/\n",
    "│   ├── 1_data_loading_and_feature_extraction.ipynb  # Veri yükleme ve ML öznitelik çıkarma\n",
    "│   ├── 2_ml_model_training.ipynb                  # ML modellerini eğitme ve kaydetme\n",
    "│   ├── 3_ml_model_evaluation.ipynb                # ML modellerini test etme\n",
    "│   ├── 4_cnn_model_training.ipynb                 # CNN modelini tasarlama, eğitme ve kaydetme\n",
    "│   ├── 5_cnn_model_evaluation.ipynb                 # CNN modelini test etme\n",
    "│   └── 6_comparison_and_analysis.ipynb            # Sonuçları karşılaştırma ve yorumlama (Opsiyonel, veya 2/4 ve 3/5 noteboklarında da yapılabilir)\n",
    "├── src/                         # Yardımcı Python scriptleri (örn. load_prep_img, load_prep_dfire fonksiyonları burada olabilir)\n",
    "│   ├── data_utils.py\n",
    "│   └── features.py              # Öznitelik çıkarma fonksiyonları burada olabilir\n",
    "└── README.txt                   # Açıklamalar burada olacak"
   ]
  }
 ],
 "metadata": {
  "language_info": {
   "name": "python"
  }
 },
 "nbformat": 4,
 "nbformat_minor": 5
}
