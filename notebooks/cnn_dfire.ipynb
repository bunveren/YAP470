{
 "cells": [
  {
   "cell_type": "markdown",
   "id": "2f72c1ac",
   "metadata": {},
   "source": [
    "custom layered cnn implementation trial\n",
    "notes: \n",
    "- keras class_weight ?"
   ]
  },
  {
   "cell_type": "code",
   "execution_count": 2,
   "id": "02e8e1cf",
   "metadata": {},
   "outputs": [
    {
     "name": "stderr",
     "output_type": "stream",
     "text": [
      "d-fire prep::   0%|          | 0/1629 [00:00<?, ?it/s]"
     ]
    },
    {
     "name": "stderr",
     "output_type": "stream",
     "text": [
      "d-fire prep:: 100%|██████████| 1629/1629 [00:38<00:00, 42.61it/s] \n"
     ]
    },
    {
     "name": "stdout",
     "output_type": "stream",
     "text": [
      "train shape: (1221, 128, 128, 3) - test shape: (408, 128, 128, 3)\n",
      "Fitting 4 folds for each of 8 candidates, totalling 32 fits\n"
     ]
    },
    {
     "name": "stderr",
     "output_type": "stream",
     "text": [
      "C:\\Users\\BerenÜnveren\\AppData\\Local\\Packages\\PythonSoftwareFoundation.Python.3.11_qbz5n2kfra8p0\\LocalCache\\local-packages\\Python311\\site-packages\\keras\\src\\layers\\activations\\leaky_relu.py:41: UserWarning: Argument `alpha` is deprecated. Use `negative_slope` instead.\n",
      "  warnings.warn(\n"
     ]
    },
    {
     "name": "stdout",
     "output_type": "stream",
     "text": [
      "[CV] END model__activation=leaky_relu, model__conv_blocks=((16, (3, 3)),), model__dense_layers=(128, 64), model__dropout_rate=0.3, optimizer__learning_rate=0.0005; total time=  57.2s\n"
     ]
    },
    {
     "name": "stderr",
     "output_type": "stream",
     "text": [
      "C:\\Users\\BerenÜnveren\\AppData\\Local\\Packages\\PythonSoftwareFoundation.Python.3.11_qbz5n2kfra8p0\\LocalCache\\local-packages\\Python311\\site-packages\\keras\\src\\layers\\activations\\leaky_relu.py:41: UserWarning: Argument `alpha` is deprecated. Use `negative_slope` instead.\n",
      "  warnings.warn(\n"
     ]
    },
    {
     "name": "stdout",
     "output_type": "stream",
     "text": [
      "[CV] END model__activation=leaky_relu, model__conv_blocks=((16, (3, 3)),), model__dense_layers=(128, 64), model__dropout_rate=0.3, optimizer__learning_rate=0.0005; total time=  54.6s\n"
     ]
    },
    {
     "name": "stderr",
     "output_type": "stream",
     "text": [
      "C:\\Users\\BerenÜnveren\\AppData\\Local\\Packages\\PythonSoftwareFoundation.Python.3.11_qbz5n2kfra8p0\\LocalCache\\local-packages\\Python311\\site-packages\\keras\\src\\layers\\activations\\leaky_relu.py:41: UserWarning: Argument `alpha` is deprecated. Use `negative_slope` instead.\n",
      "  warnings.warn(\n"
     ]
    },
    {
     "name": "stdout",
     "output_type": "stream",
     "text": [
      "[CV] END model__activation=leaky_relu, model__conv_blocks=((16, (3, 3)),), model__dense_layers=(128, 64), model__dropout_rate=0.3, optimizer__learning_rate=0.0005; total time=  34.9s\n"
     ]
    },
    {
     "name": "stderr",
     "output_type": "stream",
     "text": [
      "C:\\Users\\BerenÜnveren\\AppData\\Local\\Packages\\PythonSoftwareFoundation.Python.3.11_qbz5n2kfra8p0\\LocalCache\\local-packages\\Python311\\site-packages\\keras\\src\\layers\\activations\\leaky_relu.py:41: UserWarning: Argument `alpha` is deprecated. Use `negative_slope` instead.\n",
      "  warnings.warn(\n"
     ]
    },
    {
     "name": "stdout",
     "output_type": "stream",
     "text": [
      "[CV] END model__activation=leaky_relu, model__conv_blocks=((16, (3, 3)),), model__dense_layers=(128, 64), model__dropout_rate=0.3, optimizer__learning_rate=0.0005; total time=  59.0s\n",
      "[CV] END model__activation=relu, model__conv_blocks=((32, (3, 3)), (64, (3, 3))), model__dense_layers=(128,), model__dropout_rate=0.3, optimizer__learning_rate=0.0002; total time= 1.3min\n",
      "[CV] END model__activation=relu, model__conv_blocks=((32, (3, 3)), (64, (3, 3))), model__dense_layers=(128,), model__dropout_rate=0.3, optimizer__learning_rate=0.0002; total time= 1.1min\n",
      "[CV] END model__activation=relu, model__conv_blocks=((32, (3, 3)), (64, (3, 3))), model__dense_layers=(128,), model__dropout_rate=0.3, optimizer__learning_rate=0.0002; total time= 2.0min\n",
      "[CV] END model__activation=relu, model__conv_blocks=((32, (3, 3)), (64, (3, 3))), model__dense_layers=(128,), model__dropout_rate=0.3, optimizer__learning_rate=0.0002; total time= 2.9min\n"
     ]
    },
    {
     "name": "stderr",
     "output_type": "stream",
     "text": [
      "C:\\Users\\BerenÜnveren\\AppData\\Local\\Packages\\PythonSoftwareFoundation.Python.3.11_qbz5n2kfra8p0\\LocalCache\\local-packages\\Python311\\site-packages\\keras\\src\\layers\\activations\\leaky_relu.py:41: UserWarning: Argument `alpha` is deprecated. Use `negative_slope` instead.\n",
      "  warnings.warn(\n"
     ]
    },
    {
     "name": "stdout",
     "output_type": "stream",
     "text": [
      "[CV] END model__activation=leaky_relu, model__conv_blocks=((32, (3, 3)), (64, (3, 3))), model__dense_layers=(64,), model__dropout_rate=0.3, optimizer__learning_rate=0.0005; total time= 2.0min\n"
     ]
    },
    {
     "name": "stderr",
     "output_type": "stream",
     "text": [
      "C:\\Users\\BerenÜnveren\\AppData\\Local\\Packages\\PythonSoftwareFoundation.Python.3.11_qbz5n2kfra8p0\\LocalCache\\local-packages\\Python311\\site-packages\\keras\\src\\layers\\activations\\leaky_relu.py:41: UserWarning: Argument `alpha` is deprecated. Use `negative_slope` instead.\n",
      "  warnings.warn(\n"
     ]
    },
    {
     "name": "stdout",
     "output_type": "stream",
     "text": [
      "[CV] END model__activation=leaky_relu, model__conv_blocks=((32, (3, 3)), (64, (3, 3))), model__dense_layers=(64,), model__dropout_rate=0.3, optimizer__learning_rate=0.0005; total time= 1.6min\n"
     ]
    },
    {
     "name": "stderr",
     "output_type": "stream",
     "text": [
      "C:\\Users\\BerenÜnveren\\AppData\\Local\\Packages\\PythonSoftwareFoundation.Python.3.11_qbz5n2kfra8p0\\LocalCache\\local-packages\\Python311\\site-packages\\keras\\src\\layers\\activations\\leaky_relu.py:41: UserWarning: Argument `alpha` is deprecated. Use `negative_slope` instead.\n",
      "  warnings.warn(\n"
     ]
    },
    {
     "name": "stdout",
     "output_type": "stream",
     "text": [
      "[CV] END model__activation=leaky_relu, model__conv_blocks=((32, (3, 3)), (64, (3, 3))), model__dense_layers=(64,), model__dropout_rate=0.3, optimizer__learning_rate=0.0005; total time= 1.6min\n"
     ]
    },
    {
     "name": "stderr",
     "output_type": "stream",
     "text": [
      "C:\\Users\\BerenÜnveren\\AppData\\Local\\Packages\\PythonSoftwareFoundation.Python.3.11_qbz5n2kfra8p0\\LocalCache\\local-packages\\Python311\\site-packages\\keras\\src\\layers\\activations\\leaky_relu.py:41: UserWarning: Argument `alpha` is deprecated. Use `negative_slope` instead.\n",
      "  warnings.warn(\n"
     ]
    },
    {
     "name": "stdout",
     "output_type": "stream",
     "text": [
      "[CV] END model__activation=leaky_relu, model__conv_blocks=((32, (3, 3)), (64, (3, 3))), model__dense_layers=(64,), model__dropout_rate=0.3, optimizer__learning_rate=0.0005; total time=  57.5s\n"
     ]
    },
    {
     "name": "stderr",
     "output_type": "stream",
     "text": [
      "C:\\Users\\BerenÜnveren\\AppData\\Local\\Packages\\PythonSoftwareFoundation.Python.3.11_qbz5n2kfra8p0\\LocalCache\\local-packages\\Python311\\site-packages\\keras\\src\\layers\\activations\\leaky_relu.py:41: UserWarning: Argument `alpha` is deprecated. Use `negative_slope` instead.\n",
      "  warnings.warn(\n"
     ]
    },
    {
     "name": "stdout",
     "output_type": "stream",
     "text": [
      "[CV] END model__activation=leaky_relu, model__conv_blocks=((32, (3, 3)), (64, (3, 3)), (128, (3, 3))), model__dense_layers=(128,), model__dropout_rate=0.3, optimizer__learning_rate=0.0001; total time= 1.1min\n"
     ]
    },
    {
     "name": "stderr",
     "output_type": "stream",
     "text": [
      "C:\\Users\\BerenÜnveren\\AppData\\Local\\Packages\\PythonSoftwareFoundation.Python.3.11_qbz5n2kfra8p0\\LocalCache\\local-packages\\Python311\\site-packages\\keras\\src\\layers\\activations\\leaky_relu.py:41: UserWarning: Argument `alpha` is deprecated. Use `negative_slope` instead.\n",
      "  warnings.warn(\n"
     ]
    },
    {
     "name": "stdout",
     "output_type": "stream",
     "text": [
      "[CV] END model__activation=leaky_relu, model__conv_blocks=((32, (3, 3)), (64, (3, 3)), (128, (3, 3))), model__dense_layers=(128,), model__dropout_rate=0.3, optimizer__learning_rate=0.0001; total time= 1.8min\n"
     ]
    },
    {
     "name": "stderr",
     "output_type": "stream",
     "text": [
      "C:\\Users\\BerenÜnveren\\AppData\\Local\\Packages\\PythonSoftwareFoundation.Python.3.11_qbz5n2kfra8p0\\LocalCache\\local-packages\\Python311\\site-packages\\keras\\src\\layers\\activations\\leaky_relu.py:41: UserWarning: Argument `alpha` is deprecated. Use `negative_slope` instead.\n",
      "  warnings.warn(\n"
     ]
    },
    {
     "name": "stdout",
     "output_type": "stream",
     "text": [
      "[CV] END model__activation=leaky_relu, model__conv_blocks=((32, (3, 3)), (64, (3, 3)), (128, (3, 3))), model__dense_layers=(128,), model__dropout_rate=0.3, optimizer__learning_rate=0.0001; total time= 1.7min\n"
     ]
    },
    {
     "name": "stderr",
     "output_type": "stream",
     "text": [
      "C:\\Users\\BerenÜnveren\\AppData\\Local\\Packages\\PythonSoftwareFoundation.Python.3.11_qbz5n2kfra8p0\\LocalCache\\local-packages\\Python311\\site-packages\\keras\\src\\layers\\activations\\leaky_relu.py:41: UserWarning: Argument `alpha` is deprecated. Use `negative_slope` instead.\n",
      "  warnings.warn(\n"
     ]
    },
    {
     "name": "stdout",
     "output_type": "stream",
     "text": [
      "[CV] END model__activation=leaky_relu, model__conv_blocks=((32, (3, 3)), (64, (3, 3)), (128, (3, 3))), model__dense_layers=(128,), model__dropout_rate=0.3, optimizer__learning_rate=0.0001; total time= 1.1min\n",
      "[CV] END model__activation=relu, model__conv_blocks=((32, (5, 5)), (64, (3, 3))), model__dense_layers=(128, 64), model__dropout_rate=0.5, optimizer__learning_rate=0.0001; total time= 1.0min\n",
      "[CV] END model__activation=relu, model__conv_blocks=((32, (5, 5)), (64, (3, 3))), model__dense_layers=(128, 64), model__dropout_rate=0.5, optimizer__learning_rate=0.0001; total time= 1.7min\n",
      "[CV] END model__activation=relu, model__conv_blocks=((32, (5, 5)), (64, (3, 3))), model__dense_layers=(128, 64), model__dropout_rate=0.5, optimizer__learning_rate=0.0001; total time= 1.0min\n",
      "[CV] END model__activation=relu, model__conv_blocks=((32, (5, 5)), (64, (3, 3))), model__dense_layers=(128, 64), model__dropout_rate=0.5, optimizer__learning_rate=0.0001; total time= 1.0min\n"
     ]
    },
    {
     "name": "stderr",
     "output_type": "stream",
     "text": [
      "C:\\Users\\BerenÜnveren\\AppData\\Local\\Packages\\PythonSoftwareFoundation.Python.3.11_qbz5n2kfra8p0\\LocalCache\\local-packages\\Python311\\site-packages\\keras\\src\\layers\\activations\\leaky_relu.py:41: UserWarning: Argument `alpha` is deprecated. Use `negative_slope` instead.\n",
      "  warnings.warn(\n"
     ]
    },
    {
     "name": "stdout",
     "output_type": "stream",
     "text": [
      "[CV] END model__activation=leaky_relu, model__conv_blocks=((16, (3, 3)),), model__dense_layers=(128, 64), model__dropout_rate=0.3, optimizer__learning_rate=0.0002; total time=  52.2s\n"
     ]
    },
    {
     "name": "stderr",
     "output_type": "stream",
     "text": [
      "C:\\Users\\BerenÜnveren\\AppData\\Local\\Packages\\PythonSoftwareFoundation.Python.3.11_qbz5n2kfra8p0\\LocalCache\\local-packages\\Python311\\site-packages\\keras\\src\\layers\\activations\\leaky_relu.py:41: UserWarning: Argument `alpha` is deprecated. Use `negative_slope` instead.\n",
      "  warnings.warn(\n"
     ]
    },
    {
     "name": "stdout",
     "output_type": "stream",
     "text": [
      "[CV] END model__activation=leaky_relu, model__conv_blocks=((16, (3, 3)),), model__dense_layers=(128, 64), model__dropout_rate=0.3, optimizer__learning_rate=0.0002; total time=  51.9s\n"
     ]
    },
    {
     "name": "stderr",
     "output_type": "stream",
     "text": [
      "C:\\Users\\BerenÜnveren\\AppData\\Local\\Packages\\PythonSoftwareFoundation.Python.3.11_qbz5n2kfra8p0\\LocalCache\\local-packages\\Python311\\site-packages\\keras\\src\\layers\\activations\\leaky_relu.py:41: UserWarning: Argument `alpha` is deprecated. Use `negative_slope` instead.\n",
      "  warnings.warn(\n"
     ]
    },
    {
     "name": "stdout",
     "output_type": "stream",
     "text": [
      "[CV] END model__activation=leaky_relu, model__conv_blocks=((16, (3, 3)),), model__dense_layers=(128, 64), model__dropout_rate=0.3, optimizer__learning_rate=0.0002; total time=  52.3s\n"
     ]
    },
    {
     "name": "stderr",
     "output_type": "stream",
     "text": [
      "C:\\Users\\BerenÜnveren\\AppData\\Local\\Packages\\PythonSoftwareFoundation.Python.3.11_qbz5n2kfra8p0\\LocalCache\\local-packages\\Python311\\site-packages\\keras\\src\\layers\\activations\\leaky_relu.py:41: UserWarning: Argument `alpha` is deprecated. Use `negative_slope` instead.\n",
      "  warnings.warn(\n"
     ]
    },
    {
     "name": "stdout",
     "output_type": "stream",
     "text": [
      "[CV] END model__activation=leaky_relu, model__conv_blocks=((16, (3, 3)),), model__dense_layers=(128, 64), model__dropout_rate=0.3, optimizer__learning_rate=0.0002; total time=  32.1s\n",
      "[CV] END model__activation=relu, model__conv_blocks=((32, (3, 3)), (64, (3, 3)), (128, (3, 3))), model__dense_layers=(128,), model__dropout_rate=0.5, optimizer__learning_rate=0.0002; total time= 1.2min\n",
      "[CV] END model__activation=relu, model__conv_blocks=((32, (3, 3)), (64, (3, 3)), (128, (3, 3))), model__dense_layers=(128,), model__dropout_rate=0.5, optimizer__learning_rate=0.0002; total time= 1.1min\n",
      "[CV] END model__activation=relu, model__conv_blocks=((32, (3, 3)), (64, (3, 3)), (128, (3, 3))), model__dense_layers=(128,), model__dropout_rate=0.5, optimizer__learning_rate=0.0002; total time= 1.0min\n",
      "[CV] END model__activation=relu, model__conv_blocks=((32, (3, 3)), (64, (3, 3)), (128, (3, 3))), model__dense_layers=(128,), model__dropout_rate=0.5, optimizer__learning_rate=0.0002; total time= 1.0min\n",
      "[CV] END model__activation=relu, model__conv_blocks=((64, (5, 5)), (128, (3, 3))), model__dense_layers=(64,), model__dropout_rate=0.4, optimizer__learning_rate=0.0001; total time= 3.2min\n",
      "[CV] END model__activation=relu, model__conv_blocks=((64, (5, 5)), (128, (3, 3))), model__dense_layers=(64,), model__dropout_rate=0.4, optimizer__learning_rate=0.0001; total time= 3.2min\n",
      "[CV] END model__activation=relu, model__conv_blocks=((64, (5, 5)), (128, (3, 3))), model__dense_layers=(64,), model__dropout_rate=0.4, optimizer__learning_rate=0.0001; total time= 2.0min\n",
      "[CV] END model__activation=relu, model__conv_blocks=((64, (5, 5)), (128, (3, 3))), model__dense_layers=(64,), model__dropout_rate=0.4, optimizer__learning_rate=0.0001; total time= 2.0min\n"
     ]
    },
    {
     "name": "stderr",
     "output_type": "stream",
     "text": [
      "C:\\Users\\BerenÜnveren\\AppData\\Local\\Packages\\PythonSoftwareFoundation.Python.3.11_qbz5n2kfra8p0\\LocalCache\\local-packages\\Python311\\site-packages\\keras\\src\\layers\\activations\\leaky_relu.py:41: UserWarning: Argument `alpha` is deprecated. Use `negative_slope` instead.\n",
      "  warnings.warn(\n"
     ]
    },
    {
     "name": "stdout",
     "output_type": "stream",
     "text": [
      "\n",
      "--- hp opt results: ---\n",
      "F1 (CV): 0.7201\n",
      "best_params_:\n",
      "{'optimizer__learning_rate': 0.0002, 'model__dropout_rate': 0.3, 'model__dense_layers': (128, 64), 'model__conv_blocks': ((16, (3, 3)),), 'model__activation': 'leaky_relu'}\n",
      "\n",
      "--- opt test results: ---\n",
      "accuracy: 0.7475\n",
      "F1: 0.7268\n",
      "\n",
      "class report:\n",
      "              precision    recall  f1-score   support\n",
      "\n",
      "           0       0.73      0.81      0.77       208\n",
      "           1       0.77      0.69      0.73       200\n",
      "\n",
      "    accuracy                           0.75       408\n",
      "   macro avg       0.75      0.75      0.75       408\n",
      "weighted avg       0.75      0.75      0.75       408\n",
      "\n"
     ]
    }
   ],
   "source": [
    "import os\n",
    "import joblib\n",
    "import numpy as np\n",
    "import cv2\n",
    "import numpy as np\n",
    "import tensorflow as tf\n",
    "from keras.models import Sequential\n",
    "from keras.layers import (\n",
    "    Input, Conv2D, MaxPooling2D, BatchNormalization, \n",
    "    Dropout, Flatten, Dense, LeakyReLU, ReLU\n",
    ")\n",
    "from scikeras.wrappers import KerasClassifier\n",
    "from sklearn.model_selection import RandomizedSearchCV, StratifiedKFold, train_test_split\n",
    "from sklearn.base import ClassifierMixin\n",
    "from sklearn.metrics import f1_score, accuracy_score, classification_report\n",
    "import os\n",
    "import cv2\n",
    "import numpy as np\n",
    "from tqdm import tqdm\n",
    "\n",
    "class SklearnKerasClassifier(KerasClassifier, ClassifierMixin):\n",
    "    def __init__(self, model=None, **kwargs):\n",
    "        super().__init__(model=model, **kwargs)\n",
    "    \n",
    "    @property\n",
    "    def _tags(self):\n",
    "        return self.model._tags if hasattr(self.model, \"_tags\") else {\"binary_only\": True}\n",
    "\n",
    "def create_custom_cnn(\n",
    "    input_shape=None,\n",
    "    conv_blocks=((32, (3,3)), (64, (3,3))),\n",
    "    dense_layers=(128,),\n",
    "    dropout_rate=0.4,\n",
    "    activation='relu',\n",
    "    meta=None\n",
    "):\n",
    "    \"\"\"Conv -> BN -> Activation -> Pool -> Dropout\"\"\"\n",
    "    if input_shape is None:\n",
    "        if meta is None: raise ValueError(\"meta veya input_shape parametresi yok\")\n",
    "        input_shape = meta[\"X_shape_\"][1:]\n",
    "\n",
    "    model = Sequential(name=\"Custom_CNN\")\n",
    "    model.add(Input(shape=input_shape))\n",
    "\n",
    "    for filters, kernel_size in conv_blocks:\n",
    "        model.add(Conv2D(filters, kernel_size, padding='same'))\n",
    "        model.add(BatchNormalization())\n",
    "        if activation == 'leaky_relu':\n",
    "            model.add(LeakyReLU(alpha=0.1))\n",
    "        else:\n",
    "            model.add(ReLU())\n",
    "        model.add(MaxPooling2D(pool_size=(2, 2)))\n",
    "        model.add(Dropout(dropout_rate))\n",
    "    model.add(Flatten())\n",
    "    \n",
    "    for units in dense_layers:\n",
    "        model.add(Dense(units))\n",
    "        model.add(BatchNormalization())\n",
    "        if activation == 'leaky_relu':\n",
    "            model.add(LeakyReLU(alpha=0.1))\n",
    "        else:\n",
    "            model.add(ReLU())\n",
    "        model.add(Dropout(dropout_rate))\n",
    "    model.add(Dense(1, activation='sigmoid'))\n",
    "\n",
    "    return model\n",
    "\n",
    "def is_dfire_image_fire(annotation_path, fire_class_ids):\n",
    "    if not os.path.exists(annotation_path): return False\n",
    "    try:\n",
    "        with open(annotation_path, 'r') as f:\n",
    "            lines = f.readlines()\n",
    "        for line in lines:\n",
    "            parts = line.strip().split(' ')\n",
    "            if parts:\n",
    "                class_id = int(parts[0])\n",
    "                if class_id in fire_class_ids: return True\n",
    "    except (ValueError, IOError): pass\n",
    "    return False\n",
    "\n",
    "def load_prep_4_cnn(data_dir, target_size=(128, 128)):\n",
    "    all_images = []\n",
    "    all_labels = []\n",
    "    images_dir = os.path.join(data_dir, 'images')\n",
    "    labels_dir = os.path.join(data_dir, 'labels')\n",
    "    if not os.path.isdir(images_dir): return np.array([]), np.array([])\n",
    "    if not os.path.isdir(labels_dir): return np.array([]), np.array([])\n",
    "\n",
    "    img_extensions = ('.png', '.jpg', '.jpeg', '.bmp', '.gif')\n",
    "    annotation_extension = '.txt'\n",
    "    fire_class_ids = [0, 1]\n",
    "    image_files = [f for f in os.listdir(images_dir) if f.lower().endswith(img_extensions)]\n",
    "    if not image_files: return np.array([]), np.array([])\n",
    "    for img_name in tqdm(image_files, desc=\"d-fire prep:\"):\n",
    "        img_path = os.path.join(images_dir, img_name)\n",
    "        img_name_without_ext = os.path.splitext(img_name)[0]\n",
    "        annotation_path = os.path.join(labels_dir, img_name_without_ext + annotation_extension)\n",
    "        label = 1 if is_dfire_image_fire(annotation_path, fire_class_ids) else 0\n",
    "        try:\n",
    "            img = cv2.imread(img_path)\n",
    "            if img is None: continue\n",
    "            img = cv2.cvtColor(img, cv2.COLOR_BGR2RGB)\n",
    "            img_resized = cv2.resize(img, target_size, interpolation=cv2.INTER_LINEAR)\n",
    "            img_normalized = img_resized.astype(np.float32) / 255.0\n",
    "            all_images.append(img_normalized)\n",
    "            all_labels.append(label)\n",
    "        except Exception as e: continue\n",
    "    return np.array(all_images), np.array(all_labels)\n",
    "\n",
    "if __name__ == \"__main__\":\n",
    "    data_directory = os.path.join('..', 'data_subsets', 'D-Fire', 'train')\n",
    "    target_image_width = 128\n",
    "    target_image_height = 128\n",
    "    \n",
    "    X, y = load_prep_4_cnn(data_directory, target_size=(target_image_width, target_image_height))\n",
    "\n",
    "    X_train, X_test, y_train, y_test = train_test_split(X, y, test_size=0.25, random_state=42, stratify=y)\n",
    "    print(f\"train shape: {X_train.shape} - test shape: {X_test.shape}\")\n",
    "\n",
    "    keras_cnn_estimator = SklearnKerasClassifier(\n",
    "        model=create_custom_cnn,\n",
    "        loss='binary_crossentropy',\n",
    "        optimizer=tf.keras.optimizers.Adam,\n",
    "        optimizer__learning_rate=0.001,\n",
    "        epochs=10,\n",
    "        batch_size=16,\n",
    "        verbose=0,\n",
    "        callbacks=[tf.keras.callbacks.EarlyStopping(monitor='val_loss', patience=5, verbose=0, restore_best_weights=True)]\n",
    "    )\n",
    "\n",
    "    param_grid = {\n",
    "        'model__conv_blocks': [\n",
    "            ((16, (3,3)),),   ((32, (3,3)),),                         \n",
    "            ((16, (5,5)), (32, (3,3))), ((32, (3,3)), (64, (3,3))), ((64, (5,5)), (128, (3,3))),  ((32, (5,5)), (64, (3,3))),\n",
    "            ((32, (3,3)), (64, (3,3)), (128, (3,3))),\n",
    "        ],\n",
    "        'model__dense_layers': [(64,), (128,), (128, 64), (256,128),],\n",
    "        'model__dropout_rate': [0.3, 0.4, 0.5],\n",
    "        'model__activation': ['relu', 'leaky_relu'],\n",
    "        'optimizer__learning_rate': [0.001, 0.0005, 0.0002, 0.0001]\n",
    "    }\n",
    "\n",
    "    cv_strategy = StratifiedKFold(n_splits=4, shuffle=True, random_state=42)\n",
    "    search_cv = RandomizedSearchCV(\n",
    "        estimator=keras_cnn_estimator,\n",
    "        param_distributions=param_grid,\n",
    "        n_iter=8,\n",
    "        cv=cv_strategy,\n",
    "        scoring='f1',\n",
    "        verbose=2,\n",
    "        random_state=42\n",
    "    )\n",
    "\n",
    "    try:\n",
    "        search_cv.fit(X_train, y_train, validation_split=0.2)\n",
    "        print(\"\\n--- hp opt results: ---\")\n",
    "        print(f\"F1 (CV): {search_cv.best_score_:.4f}\")\n",
    "        print(\"best_params_:\")\n",
    "        print(search_cv.best_params_)\n",
    "        \n",
    "        best_model = search_cv.best_estimator_\n",
    "        y_pred = best_model.predict(X_test)\n",
    "        \n",
    "        print(\"\\n--- opt test results: ---\")\n",
    "        print(f\"accuracy: {accuracy_score(y_test, y_pred):.4f}\")\n",
    "        print(f\"F1: {f1_score(y_test, y_pred):.4f}\")\n",
    "        print(\"\\nclass report:\")\n",
    "        print(classification_report(y_test, y_pred))\n",
    "\n",
    "    except Exception as e:\n",
    "        print(f\"\\n{e}\")\n",
    "        import traceback\n",
    "        traceback.print_exc()"
   ]
  }
 ],
 "metadata": {
  "kernelspec": {
   "display_name": "Python 3",
   "language": "python",
   "name": "python3"
  },
  "language_info": {
   "codemirror_mode": {
    "name": "ipython",
    "version": 3
   },
   "file_extension": ".py",
   "mimetype": "text/x-python",
   "name": "python",
   "nbconvert_exporter": "python",
   "pygments_lexer": "ipython3",
   "version": "3.11.9"
  }
 },
 "nbformat": 4,
 "nbformat_minor": 5
}
