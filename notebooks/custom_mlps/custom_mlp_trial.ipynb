{
 "cells": [
  {
   "cell_type": "code",
   "execution_count": 1,
   "id": "69d249c8",
   "metadata": {},
   "outputs": [
    {
     "name": "stdout",
     "output_type": "stream",
     "text": [
      "Veri seti oluşturuldu. Eğitim seti boyutu: (400, 100), Test seti boyutu: (100, 100)\n",
      "Fitting 3 folds for each of 4 candidates, totalling 12 fits\n",
      "[CV] END model__activation=relu, model__dropout_rate=0.4, model__hidden_layer_configs=(128, 64), optimizer__learning_rate=0.001; total time=   2.9s\n",
      "[CV] END model__activation=relu, model__dropout_rate=0.4, model__hidden_layer_configs=(128, 64), optimizer__learning_rate=0.001; total time=   2.9s\n",
      "WARNING:tensorflow:5 out of the last 11 calls to <function TensorFlowTrainer.make_predict_function.<locals>.one_step_on_data_distributed at 0x000001FEB4D61A80> triggered tf.function retracing. Tracing is expensive and the excessive number of tracings could be due to (1) creating @tf.function repeatedly in a loop, (2) passing tensors with different shapes, (3) passing Python objects instead of tensors. For (1), please define your @tf.function outside of the loop. For (2), @tf.function has reduce_retracing=True option that can avoid unnecessary retracing. For (3), please refer to https://www.tensorflow.org/guide/function#controlling_retracing and https://www.tensorflow.org/api_docs/python/tf/function for  more details.\n",
      "WARNING:tensorflow:5 out of the last 11 calls to <function TensorFlowTrainer.make_predict_function.<locals>.one_step_on_data_distributed at 0x000001FEB4D61A80> triggered tf.function retracing. Tracing is expensive and the excessive number of tracings could be due to (1) creating @tf.function repeatedly in a loop, (2) passing tensors with different shapes, (3) passing Python objects instead of tensors. For (1), please define your @tf.function outside of the loop. For (2), @tf.function has reduce_retracing=True option that can avoid unnecessary retracing. For (3), please refer to https://www.tensorflow.org/guide/function#controlling_retracing and https://www.tensorflow.org/api_docs/python/tf/function for  more details.\n",
      "[CV] END model__activation=relu, model__dropout_rate=0.4, model__hidden_layer_configs=(128, 64), optimizer__learning_rate=0.001; total time=   2.8s\n"
     ]
    },
    {
     "name": "stderr",
     "output_type": "stream",
     "text": [
      "C:\\Users\\BerenÜnveren\\AppData\\Local\\Packages\\PythonSoftwareFoundation.Python.3.11_qbz5n2kfra8p0\\LocalCache\\local-packages\\Python311\\site-packages\\keras\\src\\layers\\activations\\leaky_relu.py:41: UserWarning: Argument `alpha` is deprecated. Use `negative_slope` instead.\n",
      "  warnings.warn(\n"
     ]
    },
    {
     "name": "stdout",
     "output_type": "stream",
     "text": [
      "[CV] END model__activation=leaky_relu, model__dropout_rate=0.2, model__hidden_layer_configs=(100, None), optimizer__learning_rate=0.001; total time=   2.0s\n"
     ]
    },
    {
     "name": "stderr",
     "output_type": "stream",
     "text": [
      "C:\\Users\\BerenÜnveren\\AppData\\Local\\Packages\\PythonSoftwareFoundation.Python.3.11_qbz5n2kfra8p0\\LocalCache\\local-packages\\Python311\\site-packages\\keras\\src\\layers\\activations\\leaky_relu.py:41: UserWarning: Argument `alpha` is deprecated. Use `negative_slope` instead.\n",
      "  warnings.warn(\n"
     ]
    },
    {
     "name": "stdout",
     "output_type": "stream",
     "text": [
      "[CV] END model__activation=leaky_relu, model__dropout_rate=0.2, model__hidden_layer_configs=(100, None), optimizer__learning_rate=0.001; total time=   1.9s\n"
     ]
    },
    {
     "name": "stderr",
     "output_type": "stream",
     "text": [
      "C:\\Users\\BerenÜnveren\\AppData\\Local\\Packages\\PythonSoftwareFoundation.Python.3.11_qbz5n2kfra8p0\\LocalCache\\local-packages\\Python311\\site-packages\\keras\\src\\layers\\activations\\leaky_relu.py:41: UserWarning: Argument `alpha` is deprecated. Use `negative_slope` instead.\n",
      "  warnings.warn(\n"
     ]
    },
    {
     "name": "stdout",
     "output_type": "stream",
     "text": [
      "[CV] END model__activation=leaky_relu, model__dropout_rate=0.2, model__hidden_layer_configs=(100, None), optimizer__learning_rate=0.001; total time=   2.0s\n",
      "[CV] END model__activation=relu, model__dropout_rate=0.2, model__hidden_layer_configs=(64, 32), optimizer__learning_rate=0.001; total time=   2.8s\n",
      "[CV] END model__activation=relu, model__dropout_rate=0.2, model__hidden_layer_configs=(64, 32), optimizer__learning_rate=0.001; total time=   2.7s\n",
      "[CV] END model__activation=relu, model__dropout_rate=0.2, model__hidden_layer_configs=(64, 32), optimizer__learning_rate=0.001; total time=   2.2s\n"
     ]
    },
    {
     "name": "stderr",
     "output_type": "stream",
     "text": [
      "C:\\Users\\BerenÜnveren\\AppData\\Local\\Packages\\PythonSoftwareFoundation.Python.3.11_qbz5n2kfra8p0\\LocalCache\\local-packages\\Python311\\site-packages\\keras\\src\\layers\\activations\\leaky_relu.py:41: UserWarning: Argument `alpha` is deprecated. Use `negative_slope` instead.\n",
      "  warnings.warn(\n"
     ]
    },
    {
     "name": "stdout",
     "output_type": "stream",
     "text": [
      "[CV] END model__activation=leaky_relu, model__dropout_rate=0.4, model__hidden_layer_configs=(64, 32), optimizer__learning_rate=0.001; total time=   2.3s\n"
     ]
    },
    {
     "name": "stderr",
     "output_type": "stream",
     "text": [
      "C:\\Users\\BerenÜnveren\\AppData\\Local\\Packages\\PythonSoftwareFoundation.Python.3.11_qbz5n2kfra8p0\\LocalCache\\local-packages\\Python311\\site-packages\\keras\\src\\layers\\activations\\leaky_relu.py:41: UserWarning: Argument `alpha` is deprecated. Use `negative_slope` instead.\n",
      "  warnings.warn(\n"
     ]
    },
    {
     "name": "stdout",
     "output_type": "stream",
     "text": [
      "[CV] END model__activation=leaky_relu, model__dropout_rate=0.4, model__hidden_layer_configs=(64, 32), optimizer__learning_rate=0.001; total time=   2.4s\n"
     ]
    },
    {
     "name": "stderr",
     "output_type": "stream",
     "text": [
      "C:\\Users\\BerenÜnveren\\AppData\\Local\\Packages\\PythonSoftwareFoundation.Python.3.11_qbz5n2kfra8p0\\LocalCache\\local-packages\\Python311\\site-packages\\keras\\src\\layers\\activations\\leaky_relu.py:41: UserWarning: Argument `alpha` is deprecated. Use `negative_slope` instead.\n",
      "  warnings.warn(\n"
     ]
    },
    {
     "name": "stdout",
     "output_type": "stream",
     "text": [
      "[CV] END model__activation=leaky_relu, model__dropout_rate=0.4, model__hidden_layer_configs=(64, 32), optimizer__learning_rate=0.001; total time=   2.5s\n"
     ]
    },
    {
     "name": "stderr",
     "output_type": "stream",
     "text": [
      "C:\\Users\\BerenÜnveren\\AppData\\Local\\Packages\\PythonSoftwareFoundation.Python.3.11_qbz5n2kfra8p0\\LocalCache\\local-packages\\Python311\\site-packages\\keras\\src\\layers\\activations\\leaky_relu.py:41: UserWarning: Argument `alpha` is deprecated. Use `negative_slope` instead.\n",
      "  warnings.warn(\n"
     ]
    },
    {
     "name": "stdout",
     "output_type": "stream",
     "text": [
      "En iyi F1 skoru (CV): 0.8344\n",
      "En iyi parametreler:\n",
      "{'optimizer__learning_rate': 0.001, 'model__hidden_layer_configs': (100, None), 'model__dropout_rate': 0.2, 'model__activation': 'leaky_relu'}\n",
      "\n",
      "accuracy: 0.7600\n"
     ]
    }
   ],
   "source": [
    "import numpy as np\n",
    "import tensorflow as tf\n",
    "from keras.models import Sequential\n",
    "from keras.layers import Dense, BatchNormalization, Dropout, LeakyReLU, Input\n",
    "from scikeras.wrappers import KerasClassifier\n",
    "from sklearn.model_selection import RandomizedSearchCV, StratifiedKFold\n",
    "from scikeras.wrappers import KerasClassifier\n",
    "from sklearn.base import ClassifierMixin\n",
    "from sklearn.datasets import make_classification\n",
    "from sklearn.model_selection import train_test_split\n",
    "\n",
    "class SklearnKerasClassifier(KerasClassifier, ClassifierMixin):\n",
    "    def __init__(self, model=None, **kwargs):\n",
    "        super().__init__(model=model, **kwargs)\n",
    "    @property\n",
    "    def _tags(self):\n",
    "        return self.model._tags if hasattr(self.model, \"_tags\") else {\"binary_only\": True}\n",
    "\n",
    "def create_custom_mlp(hidden_layer_configs=(50, 50),\n",
    "                        dropout_rate=0.3,\n",
    "                        activation='leaky_relu',\n",
    "                        learning_rate=0.001,\n",
    "                        meta=None):\n",
    "    if meta is None:\n",
    "        raise ValueError(\"meta parametresi eksik\")\n",
    "        \n",
    "    n_features_in = meta[\"n_features_in_\"]\n",
    "    layer1_neurons, layer2_neurons = hidden_layer_configs\n",
    "    model = Sequential(name=\"custom_MLP_trial\")\n",
    "    model.add(Input(shape=(n_features_in,)))\n",
    "    \n",
    "    model.add(Dense(layer1_neurons))\n",
    "    model.add(BatchNormalization())\n",
    "    if activation == 'leaky_relu': model.add(LeakyReLU(alpha=0.1))\n",
    "    else: model.add(tf.keras.layers.ReLU())\n",
    "    model.add(Dropout(dropout_rate))\n",
    "    \n",
    "    if layer2_neurons is not None and layer2_neurons > 0:\n",
    "        model.add(Dense(layer2_neurons))\n",
    "        model.add(BatchNormalization())\n",
    "        if activation == 'leaky_relu':\n",
    "            model.add(LeakyReLU(alpha=0.1))\n",
    "        else:\n",
    "            model.add(tf.keras.layers.ReLU())\n",
    "        model.add(Dropout(dropout_rate))\n",
    "    model.add(Dense(1, activation='sigmoid'))\n",
    "    \n",
    "    return model\n",
    "\n",
    "X, y = make_classification(\n",
    "    n_samples=500, n_features=100, n_informative=50,\n",
    "    n_redundant=20, n_classes=2, random_state=42\n",
    ")\n",
    "\n",
    "X_train, X_test, y_train, y_test = train_test_split(X, y, test_size=0.2, random_state=42, stratify=y)\n",
    "print(f\"Veri seti oluşturuldu. Eğitim seti boyutu: {X_train.shape}, Test seti boyutu: {X_test.shape}\")\n",
    "\n",
    "keras_estimator = SklearnKerasClassifier(\n",
    "    model=create_custom_mlp,\n",
    "    loss='binary_crossentropy',\n",
    "    optimizer=tf.keras.optimizers.Adam,\n",
    "    optimizer__learning_rate=0.001,\n",
    "    epochs=20,\n",
    "    batch_size=32,\n",
    "    verbose=0,\n",
    "    callbacks=[tf.keras.callbacks.EarlyStopping(monitor='val_loss', patience=5, verbose=0, restore_best_weights=True)]\n",
    ")\n",
    "\n",
    "param_grid = {\n",
    "    'model__hidden_layer_configs': [(64, 32), (128, 64), (100, None)],\n",
    "    'model__dropout_rate': [0.2, 0.4],\n",
    "    'model__activation': ['relu', 'leaky_relu'],\n",
    "    'optimizer__learning_rate': [0.001, 0.005]\n",
    "}\n",
    "\n",
    "cv_strategy = StratifiedKFold(n_splits=3, shuffle=True, random_state=42)\n",
    "\n",
    "search_cv = RandomizedSearchCV(\n",
    "    estimator=keras_estimator,\n",
    "    param_distributions=param_grid,\n",
    "    n_iter=4,\n",
    "    cv=cv_strategy,\n",
    "    scoring='f1',\n",
    "    verbose=2, # output\n",
    "    random_state=42\n",
    ")\n",
    "\n",
    "try:\n",
    "    search_cv.fit(X_train, y_train, validation_split=0.2)\n",
    "    print(f\"En iyi F1 skoru (CV): {search_cv.best_score_:.4f}\")\n",
    "    print(\"En iyi parametreler:\")\n",
    "    print(search_cv.best_params_)\n",
    "    best_model = search_cv.best_estimator_\n",
    "    test_score = best_model.score(X_test, y_test)\n",
    "    print(f\"\\naccuracy: {test_score:.4f}\")\n",
    "\n",
    "except Exception as e:\n",
    "    print(f\"\\hata: {e}\")\n",
    "    import traceback\n",
    "    traceback.print_exc()"
   ]
  }
 ],
 "metadata": {
  "kernelspec": {
   "display_name": "Python 3",
   "language": "python",
   "name": "python3"
  },
  "language_info": {
   "codemirror_mode": {
    "name": "ipython",
    "version": 3
   },
   "file_extension": ".py",
   "mimetype": "text/x-python",
   "name": "python",
   "nbconvert_exporter": "python",
   "pygments_lexer": "ipython3",
   "version": "3.11.9"
  }
 },
 "nbformat": 4,
 "nbformat_minor": 5
}
