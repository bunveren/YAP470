{
 "cells": [
  {
   "cell_type": "markdown",
   "id": "a700a16e",
   "metadata": {},
   "source": [
    "todo: test dfire models on dfire, kaggle models on kaggle.. i dont have any test data for kaggle that is seperated beforehand....\n",
    "todo: hybrid approach on kaggle\n",
    "todo: gather results"
   ]
  }
 ],
 "metadata": {
  "language_info": {
   "name": "python"
  }
 },
 "nbformat": 4,
 "nbformat_minor": 5
}
